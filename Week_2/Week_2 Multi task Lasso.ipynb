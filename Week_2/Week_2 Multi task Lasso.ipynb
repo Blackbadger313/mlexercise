{
  "cells": [
    {
      "cell_type": "markdown",
      "metadata": {
        "id": "F9tK-bjo5GOs"
      },
      "source": [
        "Joint feature selection with multi-task Lasso"
      ]
    },
    {
      "cell_type": "code",
      "execution_count": null,
      "metadata": {
        "colab": {
          "base_uri": "https://localhost:8080/",
          "height": 617
        },
        "id": "OQLORV1L4d2T",
        "outputId": "69c8057d-0593-4b2a-aeac-ac1ae6eccc2d"
      },
      "outputs": [],
      "source": [
        "print(__doc__)\n",
        "\n",
        "import matplotlib.pyplot as plt\n",
        "import numpy as np\n",
        "\n",
        "from sklearn.linear_model import MultiTaskLasso, Lasso\n",
        "\n",
        "rng = np.random.RandomState(42)\n",
        "\n",
        "# Generate some 2D coefficients with sine waves with random frequency and phase\n",
        "n_samples, n_features, n_tasks = 100, 30, 40\n",
        "n_relevant_features = 5\n",
        "coef = np.zeros((n_tasks, n_features))\n",
        "times = np.linspace(0, 2 * np.pi, n_tasks)\n",
        "for k in range(n_relevant_features):\n",
        "    coef[:, k] = np.sin((1. + rng.randn(1)) * times + 3 * rng.randn(1))\n",
        "\n",
        "X = rng.randn(n_samples, n_features)\n",
        "Y = np.dot(X, coef.T) + rng.randn(n_samples, n_tasks)\n",
        "\n",
        "coef_lasso_ = np.array([Lasso(alpha=0.5).fit(X, y).coef_ for y in Y.T])\n",
        "coef_multi_task_lasso_ = MultiTaskLasso(alpha=1.).fit(X, Y).coef_\n",
        "\n",
        "# #############################################################################\n",
        "# Plot support and time series\n",
        "fig = plt.figure(figsize=(8, 5))\n",
        "plt.subplot(1, 2, 1)\n",
        "plt.spy(coef_lasso_)\n",
        "plt.xlabel('Feature')\n",
        "plt.ylabel('Time (or Task)')\n",
        "plt.text(10, 5, 'Lasso')\n",
        "plt.subplot(1, 2, 2)\n",
        "plt.spy(coef_multi_task_lasso_)\n",
        "plt.xlabel('Feature')\n",
        "plt.ylabel('Time (or Task)')\n",
        "plt.text(10, 5, 'MultiTaskLasso')\n",
        "fig.suptitle('Coefficient non-zero location')\n",
        "\n",
        "feature_to_plot = 0\n",
        "plt.figure()\n",
        "lw = 2\n",
        "plt.plot(coef[:, feature_to_plot], color='seagreen', linewidth=lw,\n",
        "         label='Ground truth')\n",
        "plt.plot(coef_lasso_[:, feature_to_plot], color='cornflowerblue', linewidth=lw,\n",
        "         label='Lasso')\n",
        "plt.plot(coef_multi_task_lasso_[:, feature_to_plot], color='gold', linewidth=lw,\n",
        "         label='MultiTaskLasso')\n",
        "plt.legend(loc='upper center')\n",
        "plt.axis('tight')\n",
        "plt.ylim([-1.1, 1.1])\n",
        "plt.show()"
      ]
    }
  ],
  "metadata": {
    "colab": {
      "authorship_tag": "ABX9TyPvn50dWT92Hc9/erEjp7La",
      "include_colab_link": true,
      "name": "Week2_Linear Models_1.1.4. Multi-task Lasso",
      "provenance": []
    },
    "kernelspec": {
      "display_name": "Python 3",
      "name": "python3"
    },
    "language_info": {
      "name": "python"
    }
  },
  "nbformat": 4,
  "nbformat_minor": 0
}
