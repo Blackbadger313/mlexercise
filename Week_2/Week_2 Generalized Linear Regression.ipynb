{
  "cells": [
    {
      "cell_type": "markdown",
      "metadata": {
        "id": "IeuIB9Bh86fQ"
      },
      "source": [
        "Poisson regression and non-normal loss"
      ]
    },
    {
      "cell_type": "code",
      "execution_count": 1,
      "metadata": {
        "colab": {
          "base_uri": "https://localhost:8080/"
        },
        "id": "N1ySOGWL87UH",
        "outputId": "e819a676-ac35-4e9b-db31-ec5ce7b30565"
      },
      "outputs": [
        {
          "name": "stdout",
          "output_type": "stream",
          "text": [
            "Automatically created module for IPython interactive environment\n"
          ]
        }
      ],
      "source": [
        "import numpy as np\n",
        "import matplotlib.pyplot as plt\n",
        "import pandas as pd"
      ]
    },
    {
      "cell_type": "code",
      "execution_count": 2,
      "metadata": {
        "colab": {
          "base_uri": "https://localhost:8080/",
          "height": 423
        },
        "id": "kPWgx-Z68-GG",
        "outputId": "79529b71-36af-44bc-ab25-b35bf4271606"
      },
      "outputs": [
        {
          "data": {
            "text/html": [
              "<div>\n",
              "<style scoped>\n",
              "    .dataframe tbody tr th:only-of-type {\n",
              "        vertical-align: middle;\n",
              "    }\n",
              "\n",
              "    .dataframe tbody tr th {\n",
              "        vertical-align: top;\n",
              "    }\n",
              "\n",
              "    .dataframe thead th {\n",
              "        text-align: right;\n",
              "    }\n",
              "</style>\n",
              "<table border=\"1\" class=\"dataframe\">\n",
              "  <thead>\n",
              "    <tr style=\"text-align: right;\">\n",
              "      <th></th>\n",
              "      <th>IDpol</th>\n",
              "      <th>ClaimNb</th>\n",
              "      <th>Exposure</th>\n",
              "      <th>Area</th>\n",
              "      <th>VehPower</th>\n",
              "      <th>VehAge</th>\n",
              "      <th>DrivAge</th>\n",
              "      <th>BonusMalus</th>\n",
              "      <th>VehBrand</th>\n",
              "      <th>VehGas</th>\n",
              "      <th>Density</th>\n",
              "      <th>Region</th>\n",
              "    </tr>\n",
              "  </thead>\n",
              "  <tbody>\n",
              "    <tr>\n",
              "      <th>0</th>\n",
              "      <td>1.0</td>\n",
              "      <td>1.0</td>\n",
              "      <td>0.10000</td>\n",
              "      <td>D</td>\n",
              "      <td>5.0</td>\n",
              "      <td>0.0</td>\n",
              "      <td>55.0</td>\n",
              "      <td>50.0</td>\n",
              "      <td>B12</td>\n",
              "      <td>Regular</td>\n",
              "      <td>1217.0</td>\n",
              "      <td>R82</td>\n",
              "    </tr>\n",
              "    <tr>\n",
              "      <th>1</th>\n",
              "      <td>3.0</td>\n",
              "      <td>1.0</td>\n",
              "      <td>0.77000</td>\n",
              "      <td>D</td>\n",
              "      <td>5.0</td>\n",
              "      <td>0.0</td>\n",
              "      <td>55.0</td>\n",
              "      <td>50.0</td>\n",
              "      <td>B12</td>\n",
              "      <td>Regular</td>\n",
              "      <td>1217.0</td>\n",
              "      <td>R82</td>\n",
              "    </tr>\n",
              "    <tr>\n",
              "      <th>2</th>\n",
              "      <td>5.0</td>\n",
              "      <td>1.0</td>\n",
              "      <td>0.75000</td>\n",
              "      <td>B</td>\n",
              "      <td>6.0</td>\n",
              "      <td>2.0</td>\n",
              "      <td>52.0</td>\n",
              "      <td>50.0</td>\n",
              "      <td>B12</td>\n",
              "      <td>Diesel</td>\n",
              "      <td>54.0</td>\n",
              "      <td>R22</td>\n",
              "    </tr>\n",
              "    <tr>\n",
              "      <th>3</th>\n",
              "      <td>10.0</td>\n",
              "      <td>1.0</td>\n",
              "      <td>0.09000</td>\n",
              "      <td>B</td>\n",
              "      <td>7.0</td>\n",
              "      <td>0.0</td>\n",
              "      <td>46.0</td>\n",
              "      <td>50.0</td>\n",
              "      <td>B12</td>\n",
              "      <td>Diesel</td>\n",
              "      <td>76.0</td>\n",
              "      <td>R72</td>\n",
              "    </tr>\n",
              "    <tr>\n",
              "      <th>4</th>\n",
              "      <td>11.0</td>\n",
              "      <td>1.0</td>\n",
              "      <td>0.84000</td>\n",
              "      <td>B</td>\n",
              "      <td>7.0</td>\n",
              "      <td>0.0</td>\n",
              "      <td>46.0</td>\n",
              "      <td>50.0</td>\n",
              "      <td>B12</td>\n",
              "      <td>Diesel</td>\n",
              "      <td>76.0</td>\n",
              "      <td>R72</td>\n",
              "    </tr>\n",
              "    <tr>\n",
              "      <th>...</th>\n",
              "      <td>...</td>\n",
              "      <td>...</td>\n",
              "      <td>...</td>\n",
              "      <td>...</td>\n",
              "      <td>...</td>\n",
              "      <td>...</td>\n",
              "      <td>...</td>\n",
              "      <td>...</td>\n",
              "      <td>...</td>\n",
              "      <td>...</td>\n",
              "      <td>...</td>\n",
              "      <td>...</td>\n",
              "    </tr>\n",
              "    <tr>\n",
              "      <th>678008</th>\n",
              "      <td>6114326.0</td>\n",
              "      <td>0.0</td>\n",
              "      <td>0.00274</td>\n",
              "      <td>E</td>\n",
              "      <td>4.0</td>\n",
              "      <td>0.0</td>\n",
              "      <td>54.0</td>\n",
              "      <td>50.0</td>\n",
              "      <td>B12</td>\n",
              "      <td>Regular</td>\n",
              "      <td>3317.0</td>\n",
              "      <td>R93</td>\n",
              "    </tr>\n",
              "    <tr>\n",
              "      <th>678009</th>\n",
              "      <td>6114327.0</td>\n",
              "      <td>0.0</td>\n",
              "      <td>0.00274</td>\n",
              "      <td>E</td>\n",
              "      <td>4.0</td>\n",
              "      <td>0.0</td>\n",
              "      <td>41.0</td>\n",
              "      <td>95.0</td>\n",
              "      <td>B12</td>\n",
              "      <td>Regular</td>\n",
              "      <td>9850.0</td>\n",
              "      <td>R11</td>\n",
              "    </tr>\n",
              "    <tr>\n",
              "      <th>678010</th>\n",
              "      <td>6114328.0</td>\n",
              "      <td>0.0</td>\n",
              "      <td>0.00274</td>\n",
              "      <td>D</td>\n",
              "      <td>6.0</td>\n",
              "      <td>2.0</td>\n",
              "      <td>45.0</td>\n",
              "      <td>50.0</td>\n",
              "      <td>B12</td>\n",
              "      <td>Diesel</td>\n",
              "      <td>1323.0</td>\n",
              "      <td>R82</td>\n",
              "    </tr>\n",
              "    <tr>\n",
              "      <th>678011</th>\n",
              "      <td>6114329.0</td>\n",
              "      <td>0.0</td>\n",
              "      <td>0.00274</td>\n",
              "      <td>B</td>\n",
              "      <td>4.0</td>\n",
              "      <td>0.0</td>\n",
              "      <td>60.0</td>\n",
              "      <td>50.0</td>\n",
              "      <td>B12</td>\n",
              "      <td>Regular</td>\n",
              "      <td>95.0</td>\n",
              "      <td>R26</td>\n",
              "    </tr>\n",
              "    <tr>\n",
              "      <th>678012</th>\n",
              "      <td>6114330.0</td>\n",
              "      <td>0.0</td>\n",
              "      <td>0.00274</td>\n",
              "      <td>B</td>\n",
              "      <td>7.0</td>\n",
              "      <td>6.0</td>\n",
              "      <td>29.0</td>\n",
              "      <td>54.0</td>\n",
              "      <td>B12</td>\n",
              "      <td>Diesel</td>\n",
              "      <td>65.0</td>\n",
              "      <td>R72</td>\n",
              "    </tr>\n",
              "  </tbody>\n",
              "</table>\n",
              "<p>678013 rows × 12 columns</p>\n",
              "</div>"
            ],
            "text/plain": [
              "            IDpol  ClaimNb  Exposure Area  VehPower  VehAge  DrivAge  \\\n",
              "0             1.0      1.0   0.10000    D       5.0     0.0     55.0   \n",
              "1             3.0      1.0   0.77000    D       5.0     0.0     55.0   \n",
              "2             5.0      1.0   0.75000    B       6.0     2.0     52.0   \n",
              "3            10.0      1.0   0.09000    B       7.0     0.0     46.0   \n",
              "4            11.0      1.0   0.84000    B       7.0     0.0     46.0   \n",
              "...           ...      ...       ...  ...       ...     ...      ...   \n",
              "678008  6114326.0      0.0   0.00274    E       4.0     0.0     54.0   \n",
              "678009  6114327.0      0.0   0.00274    E       4.0     0.0     41.0   \n",
              "678010  6114328.0      0.0   0.00274    D       6.0     2.0     45.0   \n",
              "678011  6114329.0      0.0   0.00274    B       4.0     0.0     60.0   \n",
              "678012  6114330.0      0.0   0.00274    B       7.0     6.0     29.0   \n",
              "\n",
              "        BonusMalus VehBrand   VehGas  Density Region  \n",
              "0             50.0      B12  Regular   1217.0    R82  \n",
              "1             50.0      B12  Regular   1217.0    R82  \n",
              "2             50.0      B12   Diesel     54.0    R22  \n",
              "3             50.0      B12   Diesel     76.0    R72  \n",
              "4             50.0      B12   Diesel     76.0    R72  \n",
              "...            ...      ...      ...      ...    ...  \n",
              "678008        50.0      B12  Regular   3317.0    R93  \n",
              "678009        95.0      B12  Regular   9850.0    R11  \n",
              "678010        50.0      B12   Diesel   1323.0    R82  \n",
              "678011        50.0      B12  Regular     95.0    R26  \n",
              "678012        54.0      B12   Diesel     65.0    R72  \n",
              "\n",
              "[678013 rows x 12 columns]"
            ]
          },
          "execution_count": 2,
          "metadata": {},
          "output_type": "execute_result"
        }
      ],
      "source": [
        "from sklearn.datasets import fetch_openml\n",
        "\n",
        "\n",
        "df = fetch_openml(data_id=41214, as_frame=True).frame\n",
        "df"
      ]
    },
    {
      "cell_type": "code",
      "execution_count": 3,
      "metadata": {
        "colab": {
          "base_uri": "https://localhost:8080/",
          "height": 316
        },
        "id": "ZnMfd-z39CLn",
        "outputId": "98bbbeaa-7758-4f1c-ecad-c574d3218105"
      },
      "outputs": [
        {
          "name": "stdout",
          "output_type": "stream",
          "text": [
            "Average Frequency = 0.10070308464041304\n",
            "Fraction of exposure with zero claims = 93.9%\n"
          ]
        },
        {
          "data": {
            "image/png": "[encoded data removed]",
            "text/plain": [
              "<Figure size 1152x288 with 3 Axes>"
            ]
          },
          "metadata": {
            "needs_background": "light"
          },
          "output_type": "display_data"
        }
      ],
      "source": [
        "df[\"Frequency\"] = df[\"ClaimNb\"] / df[\"Exposure\"]\n",
        "\n",
        "print(\"Average Frequency = {}\"\n",
        "      .format(np.average(df[\"Frequency\"], weights=df[\"Exposure\"])))\n",
        "\n",
        "print(\"Fraction of exposure with zero claims = {0:.1%}\"\n",
        "      .format(df.loc[df[\"ClaimNb\"] == 0, \"Exposure\"].sum() /\n",
        "              df[\"Exposure\"].sum()))\n",
        "\n",
        "fig, (ax0, ax1, ax2) = plt.subplots(ncols=3, figsize=(16, 4))\n",
        "ax0.set_title(\"Number of claims\")\n",
        "_ = df[\"ClaimNb\"].hist(bins=30, log=True, ax=ax0)\n",
        "ax1.set_title(\"Exposure in years\")\n",
        "_ = df[\"Exposure\"].hist(bins=30, log=True, ax=ax1)\n",
        "ax2.set_title(\"Frequency (number of claims per year)\")\n",
        "_ = df[\"Frequency\"].hist(bins=30, log=True, ax=ax2)"
      ]
    },
    {
      "cell_type": "code",
      "execution_count": 4,
      "metadata": {
        "id": "2OR14N3b9Lih"
      },
      "outputs": [],
      "source": [
        "from sklearn.pipeline import make_pipeline\n",
        "from sklearn.preprocessing import FunctionTransformer, OneHotEncoder\n",
        "from sklearn.preprocessing import StandardScaler, KBinsDiscretizer\n",
        "from sklearn.compose import ColumnTransformer\n",
        "\n",
        "\n",
        "log_scale_transformer = make_pipeline(\n",
        "    FunctionTransformer(np.log, validate=False),\n",
        "    StandardScaler()\n",
        ")\n",
        "\n",
        "linear_model_preprocessor = ColumnTransformer(\n",
        "    [\n",
        "        (\"passthrough_numeric\", \"passthrough\",\n",
        "            [\"BonusMalus\"]),\n",
        "        (\"binned_numeric\", KBinsDiscretizer(n_bins=10),\n",
        "            [\"VehAge\", \"DrivAge\"]),\n",
        "        (\"log_scaled_numeric\", log_scale_transformer,\n",
        "            [\"Density\"]),\n",
        "        (\"onehot_categorical\", OneHotEncoder(),\n",
        "            [\"VehBrand\", \"VehPower\", \"VehGas\", \"Region\", \"Area\"]),\n",
        "    ],\n",
        "    remainder=\"drop\",\n",
        ")"
      ]
    },
    {
      "cell_type": "code",
      "execution_count": 5,
      "metadata": {
        "id": "hlg5QzJc9R2C"
      },
      "outputs": [],
      "source": [
        "from sklearn.dummy import DummyRegressor\n",
        "from sklearn.pipeline import Pipeline\n",
        "from sklearn.model_selection import train_test_split\n",
        "\n",
        "df_train, df_test = train_test_split(df, test_size=0.33, random_state=0)\n",
        "\n",
        "dummy = Pipeline([\n",
        "    (\"preprocessor\", linear_model_preprocessor),\n",
        "    (\"regressor\", DummyRegressor(strategy='mean')),\n",
        "]).fit(df_train, df_train[\"Frequency\"],\n",
        "       regressor__sample_weight=df_train[\"Exposure\"])"
      ]
    },
    {
      "cell_type": "code",
      "execution_count": 6,
      "metadata": {
        "colab": {
          "base_uri": "https://localhost:8080/"
        },
        "id": "_rvjkbkB9VE6",
        "outputId": "85e8884a-5b83-4ddd-84ce-6130113bdd44"
      },
      "outputs": [
        {
          "name": "stdout",
          "output_type": "stream",
          "text": [
            "Constant mean frequency evaluation:\n",
            "MSE: 0.564\n",
            "MAE: 0.189\n",
            "mean Poisson deviance: 0.625\n"
          ]
        }
      ],
      "source": [
        "from sklearn.metrics import mean_squared_error\n",
        "from sklearn.metrics import mean_absolute_error\n",
        "from sklearn.metrics import mean_poisson_deviance\n",
        "\n",
        "\n",
        "def score_estimator(estimator, df_test):\n",
        "    \"\"\"Score an estimator on the test set.\"\"\"\n",
        "    y_pred = estimator.predict(df_test)\n",
        "\n",
        "    print(\"MSE: %.3f\" %\n",
        "          mean_squared_error(df_test[\"Frequency\"], y_pred,\n",
        "                             sample_weight=df_test[\"Exposure\"]))\n",
        "    print(\"MAE: %.3f\" %\n",
        "          mean_absolute_error(df_test[\"Frequency\"], y_pred,\n",
        "                              sample_weight=df_test[\"Exposure\"]))\n",
        "\n",
        "    # Ignore non-positive predictions, as they are invalid for\n",
        "    # the Poisson deviance.\n",
        "    mask = y_pred > 0\n",
        "    if (~mask).any():\n",
        "        n_masked, n_samples = (~mask).sum(), mask.shape[0]\n",
        "        print(f\"WARNING: Estimator yields invalid, non-positive predictions \"\n",
        "              f\" for {n_masked} samples out of {n_samples}. These predictions \"\n",
        "              f\"are ignored when computing the Poisson deviance.\")\n",
        "\n",
        "    print(\"mean Poisson deviance: %.3f\" %\n",
        "          mean_poisson_deviance(df_test[\"Frequency\"][mask],\n",
        "                                y_pred[mask],\n",
        "                                sample_weight=df_test[\"Exposure\"][mask]))\n",
        "\n",
        "\n",
        "print(\"Constant mean frequency evaluation:\")\n",
        "score_estimator(dummy, df_test)"
      ]
    },
    {
      "cell_type": "code",
      "execution_count": 7,
      "metadata": {
        "id": "xICGVlqD9X0Q"
      },
      "outputs": [],
      "source": [
        "from sklearn.linear_model import Ridge\n",
        "\n",
        "\n",
        "ridge_glm = Pipeline([\n",
        "    (\"preprocessor\", linear_model_preprocessor),\n",
        "    (\"regressor\", Ridge(alpha=1e-6)),\n",
        "]).fit(df_train, df_train[\"Frequency\"],\n",
        "       regressor__sample_weight=df_train[\"Exposure\"])"
      ]
    },
    {
      "cell_type": "code",
      "execution_count": 8,
      "metadata": {
        "colab": {
          "base_uri": "https://localhost:8080/"
        },
        "id": "CcjTQ77e9aOW",
        "outputId": "49b7bf54-64fb-4c25-9aba-d00d743d177c"
      },
      "outputs": [
        {
          "name": "stdout",
          "output_type": "stream",
          "text": [
            "Ridge evaluation:\n",
            "MSE: 0.560\n",
            "MAE: 0.187\n",
            "WARNING: Estimator yields invalid, non-positive predictions  for 600 samples out of 223745. These predictions are ignored when computing the Poisson deviance.\n",
            "mean Poisson deviance: 0.599\n"
          ]
        }
      ],
      "source": [
        "print(\"Ridge evaluation:\")\n",
        "score_estimator(ridge_glm, df_test)"
      ]
    }
  ],
  "metadata": {
    "colab": {
      "authorship_tag": "ABX9TyNmPGwAYefLvrZLayNbrMPL",
      "include_colab_link": true,
      "name": "Week2_Linear Models_1.1.12. Generalized Linear Regression",
      "provenance": []
    },
    "kernelspec": {
      "display_name": "Python 3",
      "name": "python3"
    },
    "language_info": {
      "codemirror_mode": {
        "name": "ipython",
        "version": 3
      },
      "file_extension": ".py",
      "mimetype": "text/x-python",
      "name": "python",
      "nbconvert_exporter": "python",
      "pygments_lexer": "ipython3",
      "version": "3.9.9"
    }
  },
  "nbformat": 4,
  "nbformat_minor": 0
}
