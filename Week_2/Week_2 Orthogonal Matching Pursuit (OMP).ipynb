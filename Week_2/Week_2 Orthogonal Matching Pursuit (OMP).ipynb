{
  "cells": [
    {
      "cell_type": "markdown",
      "metadata": {
        "id": "mrG_tSFK6wK7"
      },
      "source": [
        "Orthogonal Matching Pursuit"
      ]
    },
    {
      "cell_type": "code",
      "execution_count": null,
      "metadata": {
        "colab": {
          "base_uri": "https://localhost:8080/",
          "height": 539
        },
        "id": "SarKjIXk6oaY",
        "outputId": "a54ecfd0-25d9-483c-810a-8c44f854bd01"
      },
      "outputs": [],
      "source": [
        "print(__doc__)\n",
        "\n",
        "import matplotlib.pyplot as plt\n",
        "import numpy as np\n",
        "from sklearn.linear_model import OrthogonalMatchingPursuit\n",
        "from sklearn.linear_model import OrthogonalMatchingPursuitCV\n",
        "from sklearn.datasets import make_sparse_coded_signal\n",
        "\n",
        "n_components, n_features = 512, 100\n",
        "n_nonzero_coefs = 17\n",
        "\n",
        "# generate the data\n",
        "\n",
        "# y = Xw\n",
        "# |x|_0 = n_nonzero_coefs\n",
        "\n",
        "y, X, w = make_sparse_coded_signal(n_samples=1,\n",
        "                                   n_components=n_components,\n",
        "                                   n_features=n_features,\n",
        "                                   n_nonzero_coefs=n_nonzero_coefs,\n",
        "                                   random_state=0)\n",
        "\n",
        "idx, = w.nonzero()\n",
        "\n",
        "# distort the clean signal\n",
        "y_noisy = y + 0.05 * np.random.randn(len(y))\n",
        "\n",
        "# plot the sparse signal\n",
        "plt.figure(figsize=(7, 7))\n",
        "plt.subplot(4, 1, 1)\n",
        "plt.xlim(0, 512)\n",
        "plt.title(\"Sparse signal\")\n",
        "plt.stem(idx, w[idx], use_line_collection=True)\n",
        "\n",
        "# plot the noise-free reconstruction\n",
        "omp = OrthogonalMatchingPursuit(n_nonzero_coefs=n_nonzero_coefs,\n",
        "                                normalize=False)\n",
        "omp.fit(X, y)\n",
        "coef = omp.coef_\n",
        "idx_r, = coef.nonzero()\n",
        "plt.subplot(4, 1, 2)\n",
        "plt.xlim(0, 512)\n",
        "plt.title(\"Recovered signal from noise-free measurements\")\n",
        "plt.stem(idx_r, coef[idx_r], use_line_collection=True)\n",
        "\n",
        "# plot the noisy reconstruction\n",
        "omp.fit(X, y_noisy)\n",
        "coef = omp.coef_\n",
        "idx_r, = coef.nonzero()\n",
        "plt.subplot(4, 1, 3)\n",
        "plt.xlim(0, 512)\n",
        "plt.title(\"Recovered signal from noisy measurements\")\n",
        "plt.stem(idx_r, coef[idx_r], use_line_collection=True)\n",
        "\n",
        "# plot the noisy reconstruction with number of non-zeros set by CV\n",
        "omp_cv = OrthogonalMatchingPursuitCV(normalize=False)\n",
        "omp_cv.fit(X, y_noisy)\n",
        "coef = omp_cv.coef_\n",
        "idx_r, = coef.nonzero()\n",
        "plt.subplot(4, 1, 4)\n",
        "plt.xlim(0, 512)\n",
        "plt.title(\"Recovered signal from noisy measurements with CV\")\n",
        "plt.stem(idx_r, coef[idx_r], use_line_collection=True)\n",
        "\n",
        "plt.subplots_adjust(0.06, 0.04, 0.94, 0.90, 0.20, 0.38)\n",
        "plt.suptitle('Sparse signal recovery with Orthogonal Matching Pursuit',\n",
        "             fontsize=16)\n",
        "plt.show()"
      ]
    }
  ],
  "metadata": {
    "colab": {
      "authorship_tag": "ABX9TyPV77IVfa72REIJzH5VbF0q",
      "include_colab_link": true,
      "name": "Week2_Linear Models_1.1.9. Orthogonal Matching Pursuit (OMP)",
      "provenance": []
    },
    "kernelspec": {
      "display_name": "Python 3",
      "name": "python3"
    },
    "language_info": {
      "name": "python"
    }
  },
  "nbformat": 4,
  "nbformat_minor": 0
}
