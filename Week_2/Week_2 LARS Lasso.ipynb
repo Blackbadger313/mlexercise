{
  "cells": [
    {
      "cell_type": "code",
      "execution_count": null,
      "metadata": {
        "colab": {
          "base_uri": "https://localhost:8080/"
        },
        "id": "i2tAikNp560K",
        "outputId": "6e87750e-bc0f-4881-b68f-27b5b6cd6304"
      },
      "outputs": [],
      "source": [
        "from sklearn import linear_model\n",
        "reg = linear_model.LassoLars(alpha=.1, normalize=False)\n",
        "reg.fit([[0, 0], [1, 1]], [0, 1])\n",
        "\n",
        "reg.coef_\n"
      ]
    },
    {
      "cell_type": "markdown",
      "metadata": {
        "id": "RP9nDmL56VaH"
      },
      "source": [
        "Lasso path using LARS"
      ]
    },
    {
      "cell_type": "code",
      "execution_count": null,
      "metadata": {
        "colab": {
          "base_uri": "https://localhost:8080/",
          "height": 348
        },
        "id": "0Q8HkfeG6YyS",
        "outputId": "60a62f55-11b4-4d0d-e46e-e512937cc86e"
      },
      "outputs": [],
      "source": [
        "print(__doc__)\n",
        "\n",
        "import numpy as np\n",
        "import matplotlib.pyplot as plt\n",
        "\n",
        "from sklearn import linear_model\n",
        "from sklearn import datasets\n",
        "\n",
        "X, y = datasets.load_diabetes(return_X_y=True)\n",
        "\n",
        "print(\"Computing regularization path using the LARS ...\")\n",
        "_, _, coefs = linear_model.lars_path(X, y, method='lasso', verbose=True)\n",
        "\n",
        "xx = np.sum(np.abs(coefs.T), axis=1)\n",
        "xx /= xx[-1]\n",
        "\n",
        "plt.plot(xx, coefs.T)\n",
        "ymin, ymax = plt.ylim()\n",
        "plt.vlines(xx, ymin, ymax, linestyle='dashed')\n",
        "plt.xlabel('|coef| / max|coef|')\n",
        "plt.ylabel('Coefficients')\n",
        "plt.title('LASSO Path')\n",
        "plt.axis('tight')\n",
        "plt.show()"
      ]
    }
  ],
  "metadata": {
    "colab": {
      "authorship_tag": "ABX9TyPUoTJSdRoaboZZXy5D2Yvn",
      "include_colab_link": true,
      "name": "Week2_Linear Models_1.1.8. LARS Lasso",
      "provenance": []
    },
    "kernelspec": {
      "display_name": "Python 3",
      "name": "python3"
    },
    "language_info": {
      "name": "python"
    }
  },
  "nbformat": 4,
  "nbformat_minor": 0
}
