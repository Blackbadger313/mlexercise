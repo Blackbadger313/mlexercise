{
  "cells": [
    {
      "cell_type": "markdown",
      "metadata": {
        "id": "FtNZPYUh_X6j"
      },
      "source": [
        "Quantile regression"
      ]
    },
    {
      "cell_type": "code",
      "execution_count": null,
      "metadata": {
        "colab": {
          "base_uri": "https://localhost:8080/"
        },
        "id": "grR-BEpc9_dj",
        "outputId": "c95f293f-fc3e-4e43-fbc8-127bb1a1e900"
      },
      "outputs": [],
      "source": [
        "print(__doc__)"
      ]
    },
    {
      "cell_type": "code",
      "execution_count": null,
      "metadata": {
        "id": "5TvAH3G9_ZP5"
      },
      "outputs": [],
      "source": [
        "import numpy as np\n",
        "\n",
        "rng = np.random.RandomState(42)\n",
        "x = np.linspace(start=0, stop=10, num=100)\n",
        "X = x[:, np.newaxis]\n",
        "y_true_mean = 10 + 0.5 * x"
      ]
    },
    {
      "cell_type": "code",
      "execution_count": null,
      "metadata": {
        "id": "AxpIeQG5_bNG"
      },
      "outputs": [],
      "source": [
        "y_normal = y_true_mean + rng.normal(\n",
        "    loc=0, scale=0.5 + 0.5 * x, size=x.shape[0]\n",
        ")\n",
        "a = 5\n",
        "y_pareto = y_true_mean + 10 * (rng.pareto(a, size=x.shape[0]) - 1 / (a - 1))"
      ]
    },
    {
      "cell_type": "code",
      "execution_count": null,
      "metadata": {
        "colab": {
          "base_uri": "https://localhost:8080/",
          "height": 676
        },
        "id": "fx-Xdjt6_dIm",
        "outputId": "48cb1175-c4ac-443b-dcf3-89794d6eee32"
      },
      "outputs": [],
      "source": [
        "import matplotlib.pyplot as plt\n",
        "\n",
        "_, axs = plt.subplots(\n",
        "    nrows=2, ncols=2, figsize=(15, 11), sharex=\"row\", sharey=\"row\"\n",
        ")\n",
        "\n",
        "axs[0, 0].plot(x, y_true_mean, label=\"True mean\")\n",
        "axs[0, 0].scatter(\n",
        "    x, y_normal, color=\"black\", alpha=0.5, label=\"Observations\"\n",
        ")\n",
        "axs[1, 0].hist(y_true_mean - y_normal, edgecolor=\"black\")\n",
        "\n",
        "\n",
        "axs[0, 1].plot(x, y_true_mean, label=\"True mean\")\n",
        "axs[0, 1].scatter(\n",
        "    x, y_pareto, color=\"black\", alpha=0.5, label=\"Observations\"\n",
        ")\n",
        "axs[1, 1].hist(y_true_mean - y_pareto, edgecolor=\"black\")\n",
        "\n",
        "axs[0, 0].set_title(\"Dataset with heteroscedastic Normal distributed targets\")\n",
        "axs[0, 1].set_title(\"Dataset with asymmetric Pareto distributed target\")\n",
        "axs[1, 0].set_title(\n",
        "    \"Residuals distribution for heteroscedastic Normal distributed targets\"\n",
        ")\n",
        "axs[1, 1].set_title(\n",
        "    \"Residuals distribution for asymmetric Pareto distributed target\"\n",
        ")\n",
        "axs[0, 0].legend()\n",
        "axs[0, 1].legend()\n",
        "axs[0, 0].set_ylabel(\"y\")\n",
        "axs[1, 0].set_ylabel(\"Counts\")\n",
        "axs[0, 1].set_xlabel(\"x\")\n",
        "axs[0, 0].set_xlabel(\"x\")\n",
        "axs[1, 0].set_xlabel(\"Residuals\")\n",
        "_ = axs[1, 1].set_xlabel(\"Residuals\")"
      ]
    }
  ],
  "metadata": {
    "colab": {
      "authorship_tag": "ABX9TyN5IEQMwbFGwiaUKvoEF2Ya",
      "include_colab_link": true,
      "name": "Week2_Linear Models_1.1.17. Quantile Regression",
      "provenance": []
    },
    "kernelspec": {
      "display_name": "Python 3",
      "name": "python3"
    },
    "language_info": {
      "name": "python"
    }
  },
  "nbformat": 4,
  "nbformat_minor": 0
}
